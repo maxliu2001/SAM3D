{
 "cells": [
  {
   "cell_type": "code",
   "execution_count": 6,
   "id": "cfaa9108-3242-4453-9181-4b57ffeba8f6",
   "metadata": {},
   "outputs": [
    {
     "name": "stdout",
     "output_type": "stream",
     "text": [
      "mkdir: cannot create directory ‘/segment-anything-test/images’: No such file or directory\n",
      "--2024-05-16 21:48:52--  https://raw.githubusercontent.com/facebookresearch/segment-anything/main/notebooks/images/truck.jpg\n",
      "Resolving raw.githubusercontent.com (raw.githubusercontent.com)... 185.199.109.133, 185.199.110.133, 185.199.111.133, ...\n",
      "Connecting to raw.githubusercontent.com (raw.githubusercontent.com)|185.199.109.133|:443... connected.\n",
      "HTTP request sent, awaiting response... 200 OK\n",
      "Length: 271475 (265K) [image/jpeg]\n",
      "Saving to: ‘images/truck.jpg.8’\n",
      "\n",
      "truck.jpg.8         100%[===================>] 265.11K  --.-KB/s    in 0.003s  \n",
      "\n",
      "2024-05-16 21:48:52 (85.1 MB/s) - ‘images/truck.jpg.8’ saved [271475/271475]\n",
      "\n",
      "--2024-05-16 21:48:52--  https://raw.githubusercontent.com/facebookresearch/segment-anything/main/notebooks/images/groceries.jpg\n",
      "Resolving raw.githubusercontent.com (raw.githubusercontent.com)... 185.199.110.133, 185.199.109.133, 185.199.111.133, ...\n",
      "Connecting to raw.githubusercontent.com (raw.githubusercontent.com)|185.199.110.133|:443... connected.\n",
      "HTTP request sent, awaiting response... 200 OK\n",
      "Length: 168066 (164K) [image/jpeg]\n",
      "Saving to: ‘images/groceries.jpg.8’\n",
      "\n",
      "groceries.jpg.8     100%[===================>] 164.13K  --.-KB/s    in 0.002s  \n",
      "\n",
      "2024-05-16 21:48:52 (84.4 MB/s) - ‘images/groceries.jpg.8’ saved [168066/168066]\n",
      "\n",
      "--2024-05-16 21:48:52--  https://dl.fbaipublicfiles.com/segment_anything/sam_vit_h_4b8939.pth\n",
      "Resolving dl.fbaipublicfiles.com (dl.fbaipublicfiles.com)... 18.165.83.44, 18.165.83.91, 18.165.83.35, ...\n",
      "Connecting to dl.fbaipublicfiles.com (dl.fbaipublicfiles.com)|18.165.83.44|:443... connected.\n",
      "HTTP request sent, awaiting response... 200 OK\n",
      "Length: 2564550879 (2.4G) [binary/octet-stream]\n",
      "Saving to: ‘sam_vit_h_4b8939.pth’\n",
      "\n",
      "sam_vit_h_4b8939.pt 100%[===================>]   2.39G   208MB/s    in 11s     \n",
      "\n",
      "2024-05-16 21:49:03 (221 MB/s) - ‘sam_vit_h_4b8939.pth’ saved [2564550879/2564550879]\n",
      "\n"
     ]
    }
   ],
   "source": [
    "!mkdir /segment-anything-test/images\n",
    "!wget -P images https://raw.githubusercontent.com/facebookresearch/segment-anything/main/notebooks/images/truck.jpg\n",
    "!wget -P images https://raw.githubusercontent.com/facebookresearch/segment-anything/main/notebooks/images/groceries.jpg\n",
    "!wget https://dl.fbaipublicfiles.com/segment_anything/sam_vit_h_4b8939.pth"
   ]
  }
 ],
 "metadata": {
  "kernelspec": {
   "display_name": "Python 3 (ipykernel)",
   "language": "python",
   "name": "python3"
  },
  "language_info": {
   "codemirror_mode": {
    "name": "ipython",
    "version": 3
   },
   "file_extension": ".py",
   "mimetype": "text/x-python",
   "name": "python",
   "nbconvert_exporter": "python",
   "pygments_lexer": "ipython3",
   "version": "3.10.12"
  }
 },
 "nbformat": 4,
 "nbformat_minor": 5
}
